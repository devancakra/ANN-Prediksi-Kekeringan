{
  "nbformat": 4,
  "nbformat_minor": 0,
  "metadata": {
    "colab": {
      "name": "ANN_SOIL.ipynb",
      "provenance": [],
      "collapsed_sections": []
    },
    "kernelspec": {
      "display_name": "Python 3",
      "name": "python3"
    },
    "language_info": {
      "name": "python"
    }
  },
  "cells": [
    {
      "cell_type": "markdown",
      "metadata": {
        "id": "1VyfaL7pmQk4"
      },
      "source": [
        "# **Prediksi kekeringan dengan Neural Network Biasa**\n",
        "\n",
        "Kelompok 9 Machine Learning:\n",
        "\n",
        "- Heri Khariono (18081010002)\n",
        "\n",
        "- Devan Cakra Mudra Wijaya (18081010013)\n",
        "\n",
        "- Rifky Akhmad Fernanda (18081010126)\n",
        "\n",
        "- Ika Nur Habibah (18081010033)\n",
        "\n",
        "- Trisa Pratiwi (18081010036)"
      ]
    },
    {
      "cell_type": "markdown",
      "metadata": {
        "id": "kdL3_QEcbTVr"
      },
      "source": [
        "**DATA SOIL**"
      ]
    },
    {
      "cell_type": "code",
      "metadata": {
        "colab": {
          "base_uri": "https://localhost:8080/",
          "height": 419
        },
        "id": "VIbTWZu9Xhos",
        "outputId": "cbe2e409-9a23-4e03-b7b3-2c5d17b9b5af"
      },
      "source": [
        "import tensorflow as tf\n",
        "from tensorflow import keras\n",
        "import pandas as pd\n",
        "from keras.layers import Dense\n",
        "import requests\n",
        "import numpy as np\n",
        "from io import StringIO\n",
        "\n",
        "soil_url='https://drive.google.com/file/d/1GpPIvMb4Pc1Js3Y3cbyLhNl21mtJAwMn/view?usp=sharing'\n",
        "file_id = soil_url.split('/')[-2]\n",
        "dwn_url ='https://drive.google.com/uc?export=download&id=' + file_id\n",
        "req_url = requests.get(dwn_url).text\n",
        "soil = pd.read_csv(StringIO(req_url))\n",
        "soil_df=soil.drop(soil.columns[4:25], axis=1)\n",
        "soil_df"
      ],
      "execution_count": null,
      "outputs": [
        {
          "output_type": "execute_result",
          "data": {
            "text/html": [
              "<div>\n",
              "<style scoped>\n",
              "    .dataframe tbody tr th:only-of-type {\n",
              "        vertical-align: middle;\n",
              "    }\n",
              "\n",
              "    .dataframe tbody tr th {\n",
              "        vertical-align: top;\n",
              "    }\n",
              "\n",
              "    .dataframe thead th {\n",
              "        text-align: right;\n",
              "    }\n",
              "</style>\n",
              "<table border=\"1\" class=\"dataframe\">\n",
              "  <thead>\n",
              "    <tr style=\"text-align: right;\">\n",
              "      <th></th>\n",
              "      <th>fips</th>\n",
              "      <th>lat</th>\n",
              "      <th>lon</th>\n",
              "      <th>elevation</th>\n",
              "      <th>SQ1</th>\n",
              "      <th>SQ2</th>\n",
              "      <th>SQ3</th>\n",
              "      <th>SQ4</th>\n",
              "      <th>SQ5</th>\n",
              "      <th>SQ6</th>\n",
              "      <th>SQ7</th>\n",
              "    </tr>\n",
              "  </thead>\n",
              "  <tbody>\n",
              "    <tr>\n",
              "      <th>0</th>\n",
              "      <td>1001</td>\n",
              "      <td>32.536382</td>\n",
              "      <td>-86.644490</td>\n",
              "      <td>63</td>\n",
              "      <td>1</td>\n",
              "      <td>1</td>\n",
              "      <td>1</td>\n",
              "      <td>1</td>\n",
              "      <td>1</td>\n",
              "      <td>1</td>\n",
              "      <td>2</td>\n",
              "    </tr>\n",
              "    <tr>\n",
              "      <th>1</th>\n",
              "      <td>1005</td>\n",
              "      <td>31.870670</td>\n",
              "      <td>-85.405456</td>\n",
              "      <td>146</td>\n",
              "      <td>3</td>\n",
              "      <td>2</td>\n",
              "      <td>1</td>\n",
              "      <td>1</td>\n",
              "      <td>1</td>\n",
              "      <td>1</td>\n",
              "      <td>1</td>\n",
              "    </tr>\n",
              "    <tr>\n",
              "      <th>2</th>\n",
              "      <td>1003</td>\n",
              "      <td>30.659218</td>\n",
              "      <td>-87.746067</td>\n",
              "      <td>52</td>\n",
              "      <td>3</td>\n",
              "      <td>2</td>\n",
              "      <td>1</td>\n",
              "      <td>2</td>\n",
              "      <td>1</td>\n",
              "      <td>1</td>\n",
              "      <td>1</td>\n",
              "    </tr>\n",
              "    <tr>\n",
              "      <th>3</th>\n",
              "      <td>1007</td>\n",
              "      <td>33.015893</td>\n",
              "      <td>-87.127148</td>\n",
              "      <td>93</td>\n",
              "      <td>3</td>\n",
              "      <td>2</td>\n",
              "      <td>1</td>\n",
              "      <td>1</td>\n",
              "      <td>1</td>\n",
              "      <td>1</td>\n",
              "      <td>1</td>\n",
              "    </tr>\n",
              "    <tr>\n",
              "      <th>4</th>\n",
              "      <td>1009</td>\n",
              "      <td>33.977448</td>\n",
              "      <td>-86.567246</td>\n",
              "      <td>198</td>\n",
              "      <td>3</td>\n",
              "      <td>2</td>\n",
              "      <td>1</td>\n",
              "      <td>1</td>\n",
              "      <td>1</td>\n",
              "      <td>1</td>\n",
              "      <td>1</td>\n",
              "    </tr>\n",
              "    <tr>\n",
              "      <th>...</th>\n",
              "      <td>...</td>\n",
              "      <td>...</td>\n",
              "      <td>...</td>\n",
              "      <td>...</td>\n",
              "      <td>...</td>\n",
              "      <td>...</td>\n",
              "      <td>...</td>\n",
              "      <td>...</td>\n",
              "      <td>...</td>\n",
              "      <td>...</td>\n",
              "      <td>...</td>\n",
              "    </tr>\n",
              "    <tr>\n",
              "      <th>3104</th>\n",
              "      <td>56037</td>\n",
              "      <td>41.660339</td>\n",
              "      <td>-108.875676</td>\n",
              "      <td>2085</td>\n",
              "      <td>1</td>\n",
              "      <td>1</td>\n",
              "      <td>3</td>\n",
              "      <td>1</td>\n",
              "      <td>1</td>\n",
              "      <td>1</td>\n",
              "      <td>3</td>\n",
              "    </tr>\n",
              "    <tr>\n",
              "      <th>3105</th>\n",
              "      <td>56039</td>\n",
              "      <td>44.049321</td>\n",
              "      <td>-110.588102</td>\n",
              "      <td>2564</td>\n",
              "      <td>1</td>\n",
              "      <td>1</td>\n",
              "      <td>1</td>\n",
              "      <td>1</td>\n",
              "      <td>1</td>\n",
              "      <td>1</td>\n",
              "      <td>1</td>\n",
              "    </tr>\n",
              "    <tr>\n",
              "      <th>3106</th>\n",
              "      <td>56043</td>\n",
              "      <td>43.878831</td>\n",
              "      <td>-107.669052</td>\n",
              "      <td>1417</td>\n",
              "      <td>1</td>\n",
              "      <td>1</td>\n",
              "      <td>1</td>\n",
              "      <td>1</td>\n",
              "      <td>1</td>\n",
              "      <td>1</td>\n",
              "      <td>1</td>\n",
              "    </tr>\n",
              "    <tr>\n",
              "      <th>3107</th>\n",
              "      <td>56041</td>\n",
              "      <td>41.284726</td>\n",
              "      <td>-110.558947</td>\n",
              "      <td>2327</td>\n",
              "      <td>1</td>\n",
              "      <td>1</td>\n",
              "      <td>2</td>\n",
              "      <td>1</td>\n",
              "      <td>1</td>\n",
              "      <td>1</td>\n",
              "      <td>2</td>\n",
              "    </tr>\n",
              "    <tr>\n",
              "      <th>3108</th>\n",
              "      <td>56045</td>\n",
              "      <td>43.846213</td>\n",
              "      <td>-104.570020</td>\n",
              "      <td>1276</td>\n",
              "      <td>1</td>\n",
              "      <td>1</td>\n",
              "      <td>2</td>\n",
              "      <td>1</td>\n",
              "      <td>1</td>\n",
              "      <td>1</td>\n",
              "      <td>2</td>\n",
              "    </tr>\n",
              "  </tbody>\n",
              "</table>\n",
              "<p>3109 rows × 11 columns</p>\n",
              "</div>"
            ],
            "text/plain": [
              "       fips        lat         lon  elevation  SQ1  ...  SQ3  SQ4  SQ5  SQ6  SQ7\n",
              "0      1001  32.536382  -86.644490         63    1  ...    1    1    1    1    2\n",
              "1      1005  31.870670  -85.405456        146    3  ...    1    1    1    1    1\n",
              "2      1003  30.659218  -87.746067         52    3  ...    1    2    1    1    1\n",
              "3      1007  33.015893  -87.127148         93    3  ...    1    1    1    1    1\n",
              "4      1009  33.977448  -86.567246        198    3  ...    1    1    1    1    1\n",
              "...     ...        ...         ...        ...  ...  ...  ...  ...  ...  ...  ...\n",
              "3104  56037  41.660339 -108.875676       2085    1  ...    3    1    1    1    3\n",
              "3105  56039  44.049321 -110.588102       2564    1  ...    1    1    1    1    1\n",
              "3106  56043  43.878831 -107.669052       1417    1  ...    1    1    1    1    1\n",
              "3107  56041  41.284726 -110.558947       2327    1  ...    2    1    1    1    2\n",
              "3108  56045  43.846213 -104.570020       1276    1  ...    2    1    1    1    2\n",
              "\n",
              "[3109 rows x 11 columns]"
            ]
          },
          "metadata": {},
          "execution_count": 8
        }
      ]
    },
    {
      "cell_type": "markdown",
      "metadata": {
        "id": "-nveJ-JifFKH"
      },
      "source": [
        "**Pembagian data fitur train, test**"
      ]
    },
    {
      "cell_type": "code",
      "metadata": {
        "colab": {
          "base_uri": "https://localhost:8080/"
        },
        "id": "XWsQmXp4foCp",
        "outputId": "724ebbbd-d320-4f69-f9e0-2ca8e9a055b5"
      },
      "source": [
        "dataset = soil_df.values\n",
        "dataset"
      ],
      "execution_count": null,
      "outputs": [
        {
          "output_type": "execute_result",
          "data": {
            "text/plain": [
              "array([[ 1.00100000e+03,  3.25363820e+01, -8.66444900e+01, ...,\n",
              "         1.00000000e+00,  1.00000000e+00,  2.00000000e+00],\n",
              "       [ 1.00500000e+03,  3.18706700e+01, -8.54054560e+01, ...,\n",
              "         1.00000000e+00,  1.00000000e+00,  1.00000000e+00],\n",
              "       [ 1.00300000e+03,  3.06592180e+01, -8.77460670e+01, ...,\n",
              "         1.00000000e+00,  1.00000000e+00,  1.00000000e+00],\n",
              "       ...,\n",
              "       [ 5.60430000e+04,  4.38788310e+01, -1.07669052e+02, ...,\n",
              "         1.00000000e+00,  1.00000000e+00,  1.00000000e+00],\n",
              "       [ 5.60410000e+04,  4.12847260e+01, -1.10558947e+02, ...,\n",
              "         1.00000000e+00,  1.00000000e+00,  2.00000000e+00],\n",
              "       [ 5.60450000e+04,  4.38462130e+01, -1.04570020e+02, ...,\n",
              "         1.00000000e+00,  1.00000000e+00,  2.00000000e+00]])"
            ]
          },
          "metadata": {},
          "execution_count": 9
        }
      ]
    },
    {
      "cell_type": "code",
      "metadata": {
        "colab": {
          "base_uri": "https://localhost:8080/"
        },
        "id": "ppvwxQ-Uauqf",
        "outputId": "ff505c51-a4e3-46b4-f57e-1376b1383302"
      },
      "source": [
        "# parameter \n",
        "param = soil_df.columns[1:4]\n",
        "param"
      ],
      "execution_count": null,
      "outputs": [
        {
          "output_type": "execute_result",
          "data": {
            "text/plain": [
              "Index(['lat', 'lon', 'elevation'], dtype='object')"
            ]
          },
          "metadata": {},
          "execution_count": 12
        }
      ]
    },
    {
      "cell_type": "code",
      "metadata": {
        "colab": {
          "base_uri": "https://localhost:8080/"
        },
        "id": "SgbkDGNrefx4",
        "outputId": "7955f1c9-2b08-4802-f7a1-a258d7d74dd2"
      },
      "source": [
        "#### UBAH 21:27 WIB RIfky\n",
        "X = dataset[:,0:10]\n",
        "X"
      ],
      "execution_count": null,
      "outputs": [
        {
          "output_type": "execute_result",
          "data": {
            "text/plain": [
              "array([[ 1.00100000e+03,  3.25363820e+01, -8.66444900e+01, ...,\n",
              "         1.00000000e+00,  1.00000000e+00,  1.00000000e+00],\n",
              "       [ 1.00500000e+03,  3.18706700e+01, -8.54054560e+01, ...,\n",
              "         1.00000000e+00,  1.00000000e+00,  1.00000000e+00],\n",
              "       [ 1.00300000e+03,  3.06592180e+01, -8.77460670e+01, ...,\n",
              "         2.00000000e+00,  1.00000000e+00,  1.00000000e+00],\n",
              "       ...,\n",
              "       [ 5.60430000e+04,  4.38788310e+01, -1.07669052e+02, ...,\n",
              "         1.00000000e+00,  1.00000000e+00,  1.00000000e+00],\n",
              "       [ 5.60410000e+04,  4.12847260e+01, -1.10558947e+02, ...,\n",
              "         1.00000000e+00,  1.00000000e+00,  1.00000000e+00],\n",
              "       [ 5.60450000e+04,  4.38462130e+01, -1.04570020e+02, ...,\n",
              "         1.00000000e+00,  1.00000000e+00,  1.00000000e+00]])"
            ]
          },
          "metadata": {},
          "execution_count": 20
        }
      ]
    },
    {
      "cell_type": "code",
      "metadata": {
        "colab": {
          "base_uri": "https://localhost:8080/"
        },
        "id": "VJjPDZ3dVRRI",
        "outputId": "fb54cd4e-ec71-4bba-8684-c64904f1c8e3"
      },
      "source": [
        "# Prediksi data SQ7\n",
        "Y = dataset[:,10]\n",
        "Y"
      ],
      "execution_count": null,
      "outputs": [
        {
          "output_type": "execute_result",
          "data": {
            "text/plain": [
              "array([2., 1., 1., ..., 1., 2., 2.])"
            ]
          },
          "metadata": {},
          "execution_count": 21
        }
      ]
    },
    {
      "cell_type": "markdown",
      "metadata": {
        "id": "ec8aPYsnM7uZ"
      },
      "source": [
        "**Preprocessing**"
      ]
    },
    {
      "cell_type": "code",
      "metadata": {
        "colab": {
          "base_uri": "https://localhost:8080/"
        },
        "id": "wnV0UM5EM31B",
        "outputId": "c87f2e80-ab5e-4b65-a391-979b7a537328"
      },
      "source": [
        "from sklearn import preprocessing\n",
        "from sklearn.preprocessing import StandardScaler\n",
        "from sklearn.preprocessing import Normalizer\n",
        "import numpy as np\n",
        "\n",
        "min_max_scaler = preprocessing.MinMaxScaler(feature_range = ( 0 , 1 ))\n",
        "X_Soil_scale = min_max_scaler.fit_transform(X)\n",
        "\n",
        "X_Soil_scale"
      ],
      "execution_count": null,
      "outputs": [
        {
          "output_type": "execute_result",
          "data": {
            "text/plain": [
              "array([[0.00000000e+00, 2.98401832e-01, 6.63702375e-01, ...,\n",
              "        1.42857143e-01, 1.42857143e-01, 1.42857143e-01],\n",
              "       [7.26691374e-05, 2.69758722e-01, 6.85592641e-01, ...,\n",
              "        1.42857143e-01, 1.42857143e-01, 1.42857143e-01],\n",
              "       [3.63345687e-05, 2.17634450e-01, 6.44240590e-01, ...,\n",
              "        2.85714286e-01, 1.42857143e-01, 1.42857143e-01],\n",
              "       ...,\n",
              "       [9.99963665e-01, 7.86425209e-01, 2.92257155e-01, ...,\n",
              "        1.42857143e-01, 1.42857143e-01, 1.42857143e-01],\n",
              "       [9.99927331e-01, 6.74810523e-01, 2.41200792e-01, ...,\n",
              "        1.42857143e-01, 1.42857143e-01, 1.42857143e-01],\n",
              "       [1.00000000e+00, 7.85021778e-01, 3.47008385e-01, ...,\n",
              "        1.42857143e-01, 1.42857143e-01, 1.42857143e-01]])"
            ]
          },
          "metadata": {},
          "execution_count": 22
        }
      ]
    },
    {
      "cell_type": "code",
      "metadata": {
        "id": "w5zB0eSBNKZW"
      },
      "source": [
        "from sklearn.model_selection import train_test_split\n",
        "X_train, X_val_and_test, Y_train, Y_val_and_test = train_test_split(X_Soil_scale, Y, test_size=0.3, random_state = 0)\n"
      ],
      "execution_count": null,
      "outputs": []
    },
    {
      "cell_type": "code",
      "metadata": {
        "id": "DPFQNIjxTCG7"
      },
      "source": [
        "X_val, X_test, Y_val, Y_test = train_test_split(X_val_and_test, Y_val_and_test, test_size=0.5)"
      ],
      "execution_count": null,
      "outputs": []
    },
    {
      "cell_type": "code",
      "metadata": {
        "colab": {
          "base_uri": "https://localhost:8080/"
        },
        "id": "LEvY3dJqWAAu",
        "outputId": "c0d64ca7-6799-4aba-ad7f-dc9f142d6e8c"
      },
      "source": [
        "print(X_train.shape, X_val.shape, X_test.shape, Y_train.shape, Y_val.shape, Y_test.shape)"
      ],
      "execution_count": null,
      "outputs": [
        {
          "output_type": "stream",
          "name": "stdout",
          "text": [
            "(2176, 10) (466, 10) (467, 10) (2176,) (466,) (467,)\n"
          ]
        }
      ]
    },
    {
      "cell_type": "markdown",
      "metadata": {
        "id": "yvRUnWXiSe1f"
      },
      "source": [
        "**Neural Network**"
      ]
    },
    {
      "cell_type": "code",
      "metadata": {
        "id": "3SufCp7YSOXy"
      },
      "source": [
        "from keras.models import Sequential\n",
        "from keras.layers import Dense\n",
        "\n",
        "model = tf.keras.Sequential([\n",
        "    tf.keras.layers.Flatten(input_shape=(10,)),\n",
        "    tf.keras.layers.Dense(128, activation='relu'),\n",
        "    tf.keras.layers.Dropout(0.2),\n",
        "    tf.keras.layers.Dense(10,activation='softmax')\n",
        "])"
      ],
      "execution_count": null,
      "outputs": []
    },
    {
      "cell_type": "code",
      "metadata": {
        "id": "OvUxlHzUS11P"
      },
      "source": [
        "model.compile(optimizer='adam',\n",
        "              loss='sparse_categorical_crossentropy',\n",
        "              metrics=['accuracy']\n",
        ")"
      ],
      "execution_count": null,
      "outputs": []
    },
    {
      "cell_type": "code",
      "metadata": {
        "colab": {
          "base_uri": "https://localhost:8080/"
        },
        "id": "KfvA6dFIS5nY",
        "outputId": "06d2ca80-9434-4949-af52-395ba20a0441"
      },
      "source": [
        "hist = model.fit(X_train, Y_train,\n",
        "          batch_size=32, epochs=100,\n",
        "          validation_data=(X_val, Y_val))"
      ],
      "execution_count": null,
      "outputs": [
        {
          "output_type": "stream",
          "name": "stdout",
          "text": [
            "Epoch 1/100\n",
            "68/68 [==============================] - 1s 5ms/step - loss: 1.4688 - accuracy: 0.7541 - val_loss: 0.8663 - val_accuracy: 0.8240\n",
            "Epoch 2/100\n",
            "68/68 [==============================] - 0s 2ms/step - loss: 0.6896 - accuracy: 0.8456 - val_loss: 0.7369 - val_accuracy: 0.8240\n",
            "Epoch 3/100\n",
            "68/68 [==============================] - 0s 2ms/step - loss: 0.5951 - accuracy: 0.8465 - val_loss: 0.6467 - val_accuracy: 0.8240\n",
            "Epoch 4/100\n",
            "68/68 [==============================] - 0s 2ms/step - loss: 0.5289 - accuracy: 0.8580 - val_loss: 0.5815 - val_accuracy: 0.8541\n",
            "Epoch 5/100\n",
            "68/68 [==============================] - 0s 2ms/step - loss: 0.4889 - accuracy: 0.8640 - val_loss: 0.5438 - val_accuracy: 0.8541\n",
            "Epoch 6/100\n",
            "68/68 [==============================] - 0s 3ms/step - loss: 0.4598 - accuracy: 0.8672 - val_loss: 0.5112 - val_accuracy: 0.8541\n",
            "Epoch 7/100\n",
            "68/68 [==============================] - 0s 2ms/step - loss: 0.4298 - accuracy: 0.8722 - val_loss: 0.4780 - val_accuracy: 0.8584\n",
            "Epoch 8/100\n",
            "68/68 [==============================] - 0s 2ms/step - loss: 0.3962 - accuracy: 0.8796 - val_loss: 0.4457 - val_accuracy: 0.8648\n",
            "Epoch 9/100\n",
            "68/68 [==============================] - 0s 3ms/step - loss: 0.3708 - accuracy: 0.8856 - val_loss: 0.4163 - val_accuracy: 0.8670\n",
            "Epoch 10/100\n",
            "68/68 [==============================] - 0s 2ms/step - loss: 0.3502 - accuracy: 0.8879 - val_loss: 0.3854 - val_accuracy: 0.8691\n",
            "Epoch 11/100\n",
            "68/68 [==============================] - 0s 2ms/step - loss: 0.3257 - accuracy: 0.8920 - val_loss: 0.3639 - val_accuracy: 0.8670\n",
            "Epoch 12/100\n",
            "68/68 [==============================] - 0s 2ms/step - loss: 0.3056 - accuracy: 0.8948 - val_loss: 0.3377 - val_accuracy: 0.8820\n",
            "Epoch 13/100\n",
            "68/68 [==============================] - 0s 2ms/step - loss: 0.2870 - accuracy: 0.9044 - val_loss: 0.3175 - val_accuracy: 0.8927\n",
            "Epoch 14/100\n",
            "68/68 [==============================] - 0s 2ms/step - loss: 0.2664 - accuracy: 0.9062 - val_loss: 0.3009 - val_accuracy: 0.8906\n",
            "Epoch 15/100\n",
            "68/68 [==============================] - 0s 2ms/step - loss: 0.2556 - accuracy: 0.9108 - val_loss: 0.2845 - val_accuracy: 0.8906\n",
            "Epoch 16/100\n",
            "68/68 [==============================] - 0s 2ms/step - loss: 0.2422 - accuracy: 0.9127 - val_loss: 0.2700 - val_accuracy: 0.9077\n",
            "Epoch 17/100\n",
            "68/68 [==============================] - 0s 2ms/step - loss: 0.2333 - accuracy: 0.9233 - val_loss: 0.2595 - val_accuracy: 0.9056\n",
            "Epoch 18/100\n",
            "68/68 [==============================] - 0s 2ms/step - loss: 0.2183 - accuracy: 0.9233 - val_loss: 0.2488 - val_accuracy: 0.9077\n",
            "Epoch 19/100\n",
            "68/68 [==============================] - 0s 2ms/step - loss: 0.2136 - accuracy: 0.9242 - val_loss: 0.2382 - val_accuracy: 0.9185\n",
            "Epoch 20/100\n",
            "68/68 [==============================] - 0s 2ms/step - loss: 0.2058 - accuracy: 0.9283 - val_loss: 0.2324 - val_accuracy: 0.9270\n",
            "Epoch 21/100\n",
            "68/68 [==============================] - 0s 2ms/step - loss: 0.1979 - accuracy: 0.9315 - val_loss: 0.2238 - val_accuracy: 0.9227\n",
            "Epoch 22/100\n",
            "68/68 [==============================] - 0s 2ms/step - loss: 0.1880 - accuracy: 0.9407 - val_loss: 0.2159 - val_accuracy: 0.9249\n",
            "Epoch 23/100\n",
            "68/68 [==============================] - 0s 2ms/step - loss: 0.1835 - accuracy: 0.9352 - val_loss: 0.2096 - val_accuracy: 0.9292\n",
            "Epoch 24/100\n",
            "68/68 [==============================] - 0s 2ms/step - loss: 0.1772 - accuracy: 0.9426 - val_loss: 0.2052 - val_accuracy: 0.9335\n",
            "Epoch 25/100\n",
            "68/68 [==============================] - 0s 2ms/step - loss: 0.1751 - accuracy: 0.9430 - val_loss: 0.2022 - val_accuracy: 0.9335\n",
            "Epoch 26/100\n",
            "68/68 [==============================] - 0s 2ms/step - loss: 0.1723 - accuracy: 0.9449 - val_loss: 0.1967 - val_accuracy: 0.9335\n",
            "Epoch 27/100\n",
            "68/68 [==============================] - 0s 2ms/step - loss: 0.1699 - accuracy: 0.9485 - val_loss: 0.1953 - val_accuracy: 0.9335\n",
            "Epoch 28/100\n",
            "68/68 [==============================] - 0s 2ms/step - loss: 0.1620 - accuracy: 0.9494 - val_loss: 0.1859 - val_accuracy: 0.9335\n",
            "Epoch 29/100\n",
            "68/68 [==============================] - 0s 2ms/step - loss: 0.1606 - accuracy: 0.9508 - val_loss: 0.1846 - val_accuracy: 0.9335\n",
            "Epoch 30/100\n",
            "68/68 [==============================] - 0s 2ms/step - loss: 0.1559 - accuracy: 0.9490 - val_loss: 0.1848 - val_accuracy: 0.9335\n",
            "Epoch 31/100\n",
            "68/68 [==============================] - 0s 3ms/step - loss: 0.1546 - accuracy: 0.9508 - val_loss: 0.1755 - val_accuracy: 0.9464\n",
            "Epoch 32/100\n",
            "68/68 [==============================] - 0s 2ms/step - loss: 0.1499 - accuracy: 0.9504 - val_loss: 0.1786 - val_accuracy: 0.9421\n",
            "Epoch 33/100\n",
            "68/68 [==============================] - 0s 2ms/step - loss: 0.1475 - accuracy: 0.9494 - val_loss: 0.1747 - val_accuracy: 0.9421\n",
            "Epoch 34/100\n",
            "68/68 [==============================] - 0s 2ms/step - loss: 0.1501 - accuracy: 0.9513 - val_loss: 0.1696 - val_accuracy: 0.9356\n",
            "Epoch 35/100\n",
            "68/68 [==============================] - 0s 2ms/step - loss: 0.1416 - accuracy: 0.9559 - val_loss: 0.1658 - val_accuracy: 0.9442\n",
            "Epoch 36/100\n",
            "68/68 [==============================] - 0s 2ms/step - loss: 0.1412 - accuracy: 0.9527 - val_loss: 0.1656 - val_accuracy: 0.9421\n",
            "Epoch 37/100\n",
            "68/68 [==============================] - 0s 2ms/step - loss: 0.1396 - accuracy: 0.9573 - val_loss: 0.1643 - val_accuracy: 0.9421\n",
            "Epoch 38/100\n",
            "68/68 [==============================] - 0s 2ms/step - loss: 0.1390 - accuracy: 0.9563 - val_loss: 0.1630 - val_accuracy: 0.9421\n",
            "Epoch 39/100\n",
            "68/68 [==============================] - 0s 2ms/step - loss: 0.1395 - accuracy: 0.9554 - val_loss: 0.1579 - val_accuracy: 0.9506\n",
            "Epoch 40/100\n",
            "68/68 [==============================] - 0s 2ms/step - loss: 0.1356 - accuracy: 0.9591 - val_loss: 0.1551 - val_accuracy: 0.9506\n",
            "Epoch 41/100\n",
            "68/68 [==============================] - 0s 3ms/step - loss: 0.1310 - accuracy: 0.9577 - val_loss: 0.1542 - val_accuracy: 0.9506\n",
            "Epoch 42/100\n",
            "68/68 [==============================] - 0s 2ms/step - loss: 0.1337 - accuracy: 0.9582 - val_loss: 0.1538 - val_accuracy: 0.9506\n",
            "Epoch 43/100\n",
            "68/68 [==============================] - 0s 2ms/step - loss: 0.1291 - accuracy: 0.9577 - val_loss: 0.1520 - val_accuracy: 0.9506\n",
            "Epoch 44/100\n",
            "68/68 [==============================] - 0s 3ms/step - loss: 0.1293 - accuracy: 0.9586 - val_loss: 0.1542 - val_accuracy: 0.9485\n",
            "Epoch 45/100\n",
            "68/68 [==============================] - 0s 2ms/step - loss: 0.1241 - accuracy: 0.9628 - val_loss: 0.1522 - val_accuracy: 0.9506\n",
            "Epoch 46/100\n",
            "68/68 [==============================] - 0s 2ms/step - loss: 0.1259 - accuracy: 0.9586 - val_loss: 0.1496 - val_accuracy: 0.9506\n",
            "Epoch 47/100\n",
            "68/68 [==============================] - 0s 2ms/step - loss: 0.1243 - accuracy: 0.9619 - val_loss: 0.1477 - val_accuracy: 0.9485\n",
            "Epoch 48/100\n",
            "68/68 [==============================] - 0s 2ms/step - loss: 0.1236 - accuracy: 0.9628 - val_loss: 0.1472 - val_accuracy: 0.9506\n",
            "Epoch 49/100\n",
            "68/68 [==============================] - 0s 2ms/step - loss: 0.1210 - accuracy: 0.9596 - val_loss: 0.1425 - val_accuracy: 0.9485\n",
            "Epoch 50/100\n",
            "68/68 [==============================] - 0s 3ms/step - loss: 0.1175 - accuracy: 0.9623 - val_loss: 0.1409 - val_accuracy: 0.9485\n",
            "Epoch 51/100\n",
            "68/68 [==============================] - 0s 2ms/step - loss: 0.1190 - accuracy: 0.9614 - val_loss: 0.1417 - val_accuracy: 0.9506\n",
            "Epoch 52/100\n",
            "68/68 [==============================] - 0s 2ms/step - loss: 0.1178 - accuracy: 0.9637 - val_loss: 0.1412 - val_accuracy: 0.9464\n",
            "Epoch 53/100\n",
            "68/68 [==============================] - 0s 2ms/step - loss: 0.1187 - accuracy: 0.9628 - val_loss: 0.1416 - val_accuracy: 0.9506\n",
            "Epoch 54/100\n",
            "68/68 [==============================] - 0s 2ms/step - loss: 0.1188 - accuracy: 0.9609 - val_loss: 0.1354 - val_accuracy: 0.9571\n",
            "Epoch 55/100\n",
            "68/68 [==============================] - 0s 3ms/step - loss: 0.1146 - accuracy: 0.9678 - val_loss: 0.1371 - val_accuracy: 0.9464\n",
            "Epoch 56/100\n",
            "68/68 [==============================] - 0s 2ms/step - loss: 0.1145 - accuracy: 0.9632 - val_loss: 0.1348 - val_accuracy: 0.9506\n",
            "Epoch 57/100\n",
            "68/68 [==============================] - 0s 2ms/step - loss: 0.1139 - accuracy: 0.9665 - val_loss: 0.1345 - val_accuracy: 0.9506\n",
            "Epoch 58/100\n",
            "68/68 [==============================] - 0s 2ms/step - loss: 0.1086 - accuracy: 0.9651 - val_loss: 0.1326 - val_accuracy: 0.9485\n",
            "Epoch 59/100\n",
            "68/68 [==============================] - 0s 2ms/step - loss: 0.1115 - accuracy: 0.9642 - val_loss: 0.1366 - val_accuracy: 0.9485\n",
            "Epoch 60/100\n",
            "68/68 [==============================] - 0s 2ms/step - loss: 0.1101 - accuracy: 0.9669 - val_loss: 0.1319 - val_accuracy: 0.9506\n",
            "Epoch 61/100\n",
            "68/68 [==============================] - 0s 2ms/step - loss: 0.1063 - accuracy: 0.9665 - val_loss: 0.1289 - val_accuracy: 0.9549\n",
            "Epoch 62/100\n",
            "68/68 [==============================] - 0s 2ms/step - loss: 0.1060 - accuracy: 0.9669 - val_loss: 0.1291 - val_accuracy: 0.9528\n",
            "Epoch 63/100\n",
            "68/68 [==============================] - 0s 3ms/step - loss: 0.1090 - accuracy: 0.9660 - val_loss: 0.1280 - val_accuracy: 0.9528\n",
            "Epoch 64/100\n",
            "68/68 [==============================] - 0s 2ms/step - loss: 0.1061 - accuracy: 0.9655 - val_loss: 0.1292 - val_accuracy: 0.9506\n",
            "Epoch 65/100\n",
            "68/68 [==============================] - 0s 2ms/step - loss: 0.1051 - accuracy: 0.9683 - val_loss: 0.1278 - val_accuracy: 0.9571\n",
            "Epoch 66/100\n",
            "68/68 [==============================] - 0s 2ms/step - loss: 0.1058 - accuracy: 0.9692 - val_loss: 0.1264 - val_accuracy: 0.9571\n",
            "Epoch 67/100\n",
            "68/68 [==============================] - 0s 2ms/step - loss: 0.1043 - accuracy: 0.9692 - val_loss: 0.1304 - val_accuracy: 0.9506\n",
            "Epoch 68/100\n",
            "68/68 [==============================] - 0s 2ms/step - loss: 0.1020 - accuracy: 0.9692 - val_loss: 0.1247 - val_accuracy: 0.9571\n",
            "Epoch 69/100\n",
            "68/68 [==============================] - 0s 3ms/step - loss: 0.1041 - accuracy: 0.9655 - val_loss: 0.1263 - val_accuracy: 0.9571\n",
            "Epoch 70/100\n",
            "68/68 [==============================] - 0s 2ms/step - loss: 0.1028 - accuracy: 0.9701 - val_loss: 0.1226 - val_accuracy: 0.9571\n",
            "Epoch 71/100\n",
            "68/68 [==============================] - 0s 2ms/step - loss: 0.1014 - accuracy: 0.9706 - val_loss: 0.1218 - val_accuracy: 0.9571\n",
            "Epoch 72/100\n",
            "68/68 [==============================] - 0s 2ms/step - loss: 0.0998 - accuracy: 0.9715 - val_loss: 0.1213 - val_accuracy: 0.9571\n",
            "Epoch 73/100\n",
            "68/68 [==============================] - 0s 2ms/step - loss: 0.1031 - accuracy: 0.9701 - val_loss: 0.1225 - val_accuracy: 0.9549\n",
            "Epoch 74/100\n",
            "68/68 [==============================] - 0s 2ms/step - loss: 0.0986 - accuracy: 0.9715 - val_loss: 0.1177 - val_accuracy: 0.9635\n",
            "Epoch 75/100\n",
            "68/68 [==============================] - 0s 2ms/step - loss: 0.1041 - accuracy: 0.9683 - val_loss: 0.1191 - val_accuracy: 0.9592\n",
            "Epoch 76/100\n",
            "68/68 [==============================] - 0s 2ms/step - loss: 0.1001 - accuracy: 0.9692 - val_loss: 0.1189 - val_accuracy: 0.9614\n",
            "Epoch 77/100\n",
            "68/68 [==============================] - 0s 2ms/step - loss: 0.0992 - accuracy: 0.9692 - val_loss: 0.1156 - val_accuracy: 0.9635\n",
            "Epoch 78/100\n",
            "68/68 [==============================] - 0s 2ms/step - loss: 0.0978 - accuracy: 0.9720 - val_loss: 0.1143 - val_accuracy: 0.9635\n",
            "Epoch 79/100\n",
            "68/68 [==============================] - 0s 2ms/step - loss: 0.0985 - accuracy: 0.9715 - val_loss: 0.1178 - val_accuracy: 0.9592\n",
            "Epoch 80/100\n",
            "68/68 [==============================] - 0s 2ms/step - loss: 0.0961 - accuracy: 0.9706 - val_loss: 0.1184 - val_accuracy: 0.9571\n",
            "Epoch 81/100\n",
            "68/68 [==============================] - 0s 2ms/step - loss: 0.0956 - accuracy: 0.9715 - val_loss: 0.1158 - val_accuracy: 0.9635\n",
            "Epoch 82/100\n",
            "68/68 [==============================] - 0s 2ms/step - loss: 0.0938 - accuracy: 0.9729 - val_loss: 0.1139 - val_accuracy: 0.9635\n",
            "Epoch 83/100\n",
            "68/68 [==============================] - 0s 2ms/step - loss: 0.0956 - accuracy: 0.9729 - val_loss: 0.1179 - val_accuracy: 0.9528\n",
            "Epoch 84/100\n",
            "68/68 [==============================] - 0s 3ms/step - loss: 0.0914 - accuracy: 0.9729 - val_loss: 0.1103 - val_accuracy: 0.9657\n",
            "Epoch 85/100\n",
            "68/68 [==============================] - 0s 3ms/step - loss: 0.0958 - accuracy: 0.9720 - val_loss: 0.1160 - val_accuracy: 0.9571\n",
            "Epoch 86/100\n",
            "68/68 [==============================] - 0s 3ms/step - loss: 0.0909 - accuracy: 0.9715 - val_loss: 0.1105 - val_accuracy: 0.9635\n",
            "Epoch 87/100\n",
            "68/68 [==============================] - 0s 3ms/step - loss: 0.0954 - accuracy: 0.9683 - val_loss: 0.1171 - val_accuracy: 0.9592\n",
            "Epoch 88/100\n",
            "68/68 [==============================] - 0s 2ms/step - loss: 0.0918 - accuracy: 0.9729 - val_loss: 0.1086 - val_accuracy: 0.9657\n",
            "Epoch 89/100\n",
            "68/68 [==============================] - 0s 3ms/step - loss: 0.0904 - accuracy: 0.9738 - val_loss: 0.1108 - val_accuracy: 0.9635\n",
            "Epoch 90/100\n",
            "68/68 [==============================] - 0s 3ms/step - loss: 0.0882 - accuracy: 0.9738 - val_loss: 0.1095 - val_accuracy: 0.9635\n",
            "Epoch 91/100\n",
            "68/68 [==============================] - 0s 6ms/step - loss: 0.0854 - accuracy: 0.9752 - val_loss: 0.1097 - val_accuracy: 0.9614\n",
            "Epoch 92/100\n",
            "68/68 [==============================] - 0s 7ms/step - loss: 0.0883 - accuracy: 0.9720 - val_loss: 0.1121 - val_accuracy: 0.9549\n",
            "Epoch 93/100\n",
            "68/68 [==============================] - 0s 4ms/step - loss: 0.0896 - accuracy: 0.9715 - val_loss: 0.1085 - val_accuracy: 0.9635\n",
            "Epoch 94/100\n",
            "68/68 [==============================] - 0s 4ms/step - loss: 0.0861 - accuracy: 0.9729 - val_loss: 0.1060 - val_accuracy: 0.9678\n",
            "Epoch 95/100\n",
            "68/68 [==============================] - 0s 4ms/step - loss: 0.0855 - accuracy: 0.9743 - val_loss: 0.1133 - val_accuracy: 0.9571\n",
            "Epoch 96/100\n",
            "68/68 [==============================] - 0s 3ms/step - loss: 0.0872 - accuracy: 0.9729 - val_loss: 0.1047 - val_accuracy: 0.9657\n",
            "Epoch 97/100\n",
            "68/68 [==============================] - 0s 3ms/step - loss: 0.0837 - accuracy: 0.9733 - val_loss: 0.1044 - val_accuracy: 0.9678\n",
            "Epoch 98/100\n",
            "68/68 [==============================] - 0s 3ms/step - loss: 0.0860 - accuracy: 0.9756 - val_loss: 0.1046 - val_accuracy: 0.9657\n",
            "Epoch 99/100\n",
            "68/68 [==============================] - 0s 2ms/step - loss: 0.0890 - accuracy: 0.9720 - val_loss: 0.1016 - val_accuracy: 0.9700\n",
            "Epoch 100/100\n",
            "68/68 [==============================] - 0s 2ms/step - loss: 0.0850 - accuracy: 0.9733 - val_loss: 0.1031 - val_accuracy: 0.9657\n"
          ]
        }
      ]
    },
    {
      "cell_type": "code",
      "metadata": {
        "colab": {
          "base_uri": "https://localhost:8080/"
        },
        "id": "LQYgXW1QVc8l",
        "outputId": "1f43354a-130e-45ae-ba17-ffbaad50b418"
      },
      "source": [
        "# model.evaluate(X_test, Y_test)\n",
        "_, accuracy = model.evaluate(X_train, Y_train)\n",
        "print('Accuracy: %.2f' % (accuracy*100))"
      ],
      "execution_count": null,
      "outputs": [
        {
          "output_type": "stream",
          "name": "stdout",
          "text": [
            "68/68 [==============================] - 0s 2ms/step - loss: 0.0764 - accuracy: 0.9775\n",
            "Accuracy: 97.75\n"
          ]
        }
      ]
    },
    {
      "cell_type": "markdown",
      "metadata": {
        "id": "bv0jfJkeWLAl"
      },
      "source": [
        "**Prediksi dengan X_test**"
      ]
    },
    {
      "cell_type": "code",
      "metadata": {
        "id": "IoG8BCQOWMGu"
      },
      "source": [
        "predictions = model.predict(X_train)\n",
        "classes_x = np.argmax(predictions,axis=1)"
      ],
      "execution_count": null,
      "outputs": []
    },
    {
      "cell_type": "code",
      "metadata": {
        "colab": {
          "base_uri": "https://localhost:8080/"
        },
        "id": "pZV6PGILWO1Q",
        "outputId": "15e355b1-ae3a-4afd-9ce4-6bac009b63a8"
      },
      "source": [
        "for i in range(100):\n",
        "\t print('%s => %d (expected %d)' % (X_test[i].tolist(), classes_x[i], Y_train[i]))"
      ],
      "execution_count": null,
      "outputs": [
        {
          "output_type": "stream",
          "name": "stdout",
          "text": [
            "[0.0009810333551340741, 0.36342555442587643, 0.6744806058536432, 0.04969118472768108, 0.42857142857142855, 0.2857142857142857, 0.14285714285714285, 0.14285714285714285, 0.14285714285714285, 0.14285714285714285] => 2 (expected 2)\n",
            "[0.6365816437758883, 0.776918466491779, 0.8782181628641634, 0.21139809096013476, 0.42857142857142855, 0.2857142857142857, 0.2857142857142857, 0.14285714285714285, 0.14285714285714285, 0.14285714285714285] => 2 (expected 1)\n",
            "[0.9086185596976963, 0.5407010960084091, 0.796167676108851, 0.1428972487366648, 0.14285714285714285, 0.14285714285714285, 0.14285714285714285, 0.14285714285714285, 0.14285714285714285, 0.14285714285714285] => 1 (expected 1)\n",
            "[0.22334859385219097, 0.39303576645507765, 0.6873606157006358, 0.07523862998315553, 0.42857142857142855, 0.2857142857142857, 0.14285714285714285, 0.14285714285714285, 0.14285714285714285, 0.14285714285714285] => 7 (expected 7)\n",
            "[0.07448586585277232, 0.4435587723914134, 0.5476183522883884, 0.1729365524985963, 0.2857142857142857, 0.14285714285714285, 0.42857142857142855, 0.14285714285714285, 0.14285714285714285, 0.14285714285714285] => 1 (expected 1)\n",
            "[0.9814693699585786, 0.7515152779863354, 0.6147048235158541, 0.07467714766984841, 0.14285714285714285, 0.14285714285714285, 0.14285714285714285, 0.2857142857142857, 0.14285714285714285, 0.14285714285714285] => 1 (expected 1)\n",
            "[0.872501998401279, 0.5805749687736779, 0.18879868191353477, 0.43234138124649074, 0.14285714285714285, 0.14285714285714285, 0.42857142857142855, 0.14285714285714285, 0.14285714285714285, 0.14285714285714285] => 1 (expected 1)\n",
            "[0.5474529467335223, 0.6563668351719179, 0.39883648743270883, 0.28775968556990456, 0.14285714285714285, 0.14285714285714285, 0.14285714285714285, 0.14285714285714285, 0.14285714285714285, 0.14285714285714285] => 2 (expected 1)\n",
            "[0.4754741661216481, 0.8224341170856921, 0.5008413917424517, 0.09067939359910164, 0.14285714285714285, 0.14285714285714285, 0.14285714285714285, 0.2857142857142857, 0.14285714285714285, 0.14285714285714285] => 1 (expected 1)\n",
            "[0.4928420899643921, 0.2761422724157234, 0.6133423110995642, 0.03256597417181359, 0.42857142857142855, 0.2857142857142857, 0.14285714285714285, 0.14285714285714285, 0.14285714285714285, 0.14285714285714285] => 1 (expected 1)\n",
            "[0.2229852481651043, 0.22647196127979052, 0.7118403284771317, 0.016844469399213927, 0.42857142857142855, 0.2857142857142857, 0.14285714285714285, 0.14285714285714285, 0.14285714285714285, 0.14285714285714285] => 2 (expected 2)\n",
            "[0.127170990480343, 0.6141262158688661, 0.35121579423983107, 0.44862436833239755, 0.14285714285714285, 0.14285714285714285, 0.14285714285714285, 0.14285714285714285, 0.14285714285714285, 0.14285714285714285] => 1 (expected 1)\n",
            "[0.859966572196788, 0.34744778868589576, 0.467945217464109, 0.09404828747894442, 0.14285714285714285, 0.14285714285714285, 0.14285714285714285, 0.14285714285714285, 0.14285714285714285, 0.14285714285714285] => 1 (expected 1)\n",
            "[0.6554029503669792, 0.4603313195600478, 0.8048077867422938, 0.040707467714766986, 0.42857142857142855, 0.2857142857142857, 0.14285714285714285, 0.14285714285714285, 0.14285714285714285, 0.14285714285714285] => 1 (expected 1)\n",
            "[0.8626553302812295, 0.36099306373353657, 0.45041751400784014, 0.08955642897248738, 0.14285714285714285, 0.14285714285714285, 0.14285714285714285, 0.14285714285714285, 0.14285714285714285, 0.14285714285714285] => 1 (expected 1)\n",
            "[0.858985538841654, 0.1183246341367914, 0.443705336977795, 0.0317237507018529, 0.14285714285714285, 0.14285714285714285, 0.2857142857142857, 0.2857142857142857, 0.14285714285714285, 0.14285714285714285] => 1 (expected 1)\n",
            "[0.8564057844633384, 0.2652725004851213, 0.31747993310419353, 0.3433464345873105, 0.14285714285714285, 0.14285714285714285, 0.14285714285714285, 0.14285714285714285, 0.14285714285714285, 0.2857142857142857] => 1 (expected 1)\n",
            "[0.745658019039314, 0.6159481636599184, 0.8623825181747387, 0.00982594048287479, 0.42857142857142855, 0.2857142857142857, 0.14285714285714285, 0.14285714285714285, 0.14285714285714285, 0.14285714285714285] => 1 (expected 1)\n",
            "[0.9455708160744132, 0.9016390861046197, 0.007579018379422209, 0.10976979225154408, 0.2857142857142857, 0.2857142857142857, 0.14285714285714285, 0.14285714285714285, 0.14285714285714285, 0.14285714285714285] => 1 (expected 3)\n",
            "[0.1275343361674297, 0.49963681517760605, 0.3186273119810692, 0.6953958450308816, 0.14285714285714285, 0.14285714285714285, 0.2857142857142857, 0.14285714285714285, 0.14285714285714285, 0.14285714285714285] => 1 (expected 1)\n",
            "[0.3653077537969624, 0.5078080649318182, 0.7100576546225279, 0.11033127456485121, 0.2857142857142857, 0.2857142857142857, 0.42857142857142855, 0.14285714285714285, 0.14285714285714285, 0.14285714285714285] => 1 (expected 1)\n",
            "[0.6376716808371484, 0.7170622861325009, 0.8272823955696451, 0.1403705783267827, 0.2857142857142857, 0.14285714285714285, 0.14285714285714285, 0.14285714285714285, 0.14285714285714285, 0.14285714285714285] => 1 (expected 1)\n",
            "[0.45567182617542323, 0.9500606025141973, 0.6371253883670971, 0.00028074115665356543, 1.0, 1.0, 1.0, 1.0, 1.0, 1.0] => 1 (expected 1)\n",
            "[0.8608386018457961, 0.18165639127409827, 0.43118761080980583, 0.16844469399213924, 0.14285714285714285, 0.14285714285714285, 0.42857142857142855, 0.14285714285714285, 0.14285714285714285, 0.14285714285714285] => 7 (expected 7)\n",
            "[0.5095923261390888, 0.5552887256949925, 0.5642905390728497, 0.06035934868051657, 0.2857142857142857, 0.2857142857142857, 0.14285714285714285, 0.14285714285714285, 0.14285714285714285, 0.14285714285714285] => 2 (expected 1)\n",
            "[0.5092653150207107, 0.5948956203980702, 0.5425806728247122, 0.0634475014037058, 0.14285714285714285, 0.14285714285714285, 0.14285714285714285, 0.2857142857142857, 0.14285714285714285, 0.14285714285714285] => 1 (expected 1)\n",
            "[0.47445679819780534, 0.7922995868186409, 0.4938759376802113, 0.14682762492981472, 0.14285714285714285, 0.14285714285714285, 0.14285714285714285, 0.14285714285714285, 0.14285714285714285, 0.14285714285714285] => 1 (expected 1)\n",
            "[0.9996003197442047, 0.7154299981799883, 0.23906491518956074, 0.7608085345311623, 0.14285714285714285, 0.14285714285714285, 0.14285714285714285, 0.14285714285714285, 0.14285714285714285, 0.14285714285714285] => 1 (expected 1)\n",
            "[0.2233122592834823, 0.3132654751542596, 0.705259330434534, 0.05923638405390231, 0.42857142857142855, 0.2857142857142857, 0.14285714285714285, 0.14285714285714285, 0.14285714285714285, 0.14285714285714285] => 1 (expected 1)\n",
            "[0.12811568926676842, 0.5253759098444555, 0.2973037391417588, 0.9646266142616509, 0.8571428571428571, 0.8571428571428571, 0.8571428571428571, 0.8571428571428571, 0.8571428571428571, 0.8571428571428571] => 1 (expected 1)\n",
            "[0.8587675314294019, 0.1611783348916016, 0.4203682682675842, 0.09769792251544077, 0.14285714285714285, 0.14285714285714285, 0.2857142857142857, 0.2857142857142857, 0.14285714285714285, 0.14285714285714285] => 1 (expected 1)\n",
            "[0.34681345832424965, 0.5715122145152594, 0.5192228098157501, 0.0909601347557552, 0.14285714285714285, 0.14285714285714285, 0.14285714285714285, 0.14285714285714285, 0.14285714285714285, 0.14285714285714285] => 1 (expected 1)\n",
            "[0.3832570307390451, 0.2143740472368305, 0.569274969584584, 0.0030881527231892197, 0.14285714285714285, 0.14285714285714285, 0.14285714285714285, 0.2857142857142857, 0.14285714285714285, 0.14285714285714285] => 1 (expected 1)\n",
            "[0.8561514424823777, 0.12144356608685869, 0.4318842639859728, 0.05109489051094891, 0.14285714285714285, 0.14285714285714285, 0.2857142857142857, 0.2857142857142857, 0.14285714285714285, 0.14285714285714285] => 1 (expected 1)\n",
            "[0.964828137490008, 0.5164304021967494, 0.7537274840543331, 0.15889949466591802, 0.2857142857142857, 0.2857142857142857, 0.2857142857142857, 0.14285714285714285, 0.14285714285714285, 0.14285714285714285] => 1 (expected 1)\n",
            "[0.3471768040113363, 0.5530793692863787, 0.49556184826016847, 0.09545199326221225, 0.14285714285714285, 0.14285714285714285, 0.14285714285714285, 0.14285714285714285, 0.14285714285714285, 0.14285714285714285] => 1 (expected 1)\n",
            "[0.9640651115471259, 0.5460195313491618, 0.7670020555614832, 0.18388545760808533, 0.2857142857142857, 0.2857142857142857, 0.14285714285714285, 0.14285714285714285, 0.14285714285714285, 0.14285714285714285] => 1 (expected 1)\n",
            "[0.9111619795073033, 0.49318192672538563, 0.7684873727106687, 0.17349803481190343, 0.42857142857142855, 0.2857142857142857, 0.14285714285714285, 0.14285714285714285, 0.14285714285714285, 0.14285714285714285] => 1 (expected 1)\n",
            "[0.20129351064602863, 0.0809041628355347, 0.7392951453545338, 0.007299270072992701, 0.42857142857142855, 0.42857142857142855, 0.14285714285714285, 0.2857142857142857, 0.14285714285714285, 0.14285714285714285] => 2 (expected 2)\n",
            "[0.6362182980888017, 0.7162449589335675, 0.8936884674483452, 0.06513194834362718, 0.2857142857142857, 0.2857142857142857, 0.14285714285714285, 0.14285714285714285, 0.14285714285714285, 0.14285714285714285] => 1 (expected 1)\n",
            "[0.600247075067219, 0.6562575053965709, 0.8692593712104402, 0.04800673778775969, 0.42857142857142855, 0.2857142857142857, 0.14285714285714285, 0.14285714285714285, 0.14285714285714285, 0.14285714285714285] => 1 (expected 1)\n",
            "[0.12724365961776035, 0.6042433807296481, 0.3512182499811449, 0.47697922515440766, 0.14285714285714285, 0.14285714285714285, 0.14285714285714285, 0.14285714285714285, 0.14285714285714285, 0.14285714285714285] => 2 (expected 2)\n",
            "[0.2912579027686941, 0.5766677523631105, 0.6440443953508193, 0.046322290847838295, 0.14285714285714285, 0.14285714285714285, 0.14285714285714285, 0.42857142857142855, 0.14285714285714285, 0.14285714285714285] => 1 (expected 1)\n",
            "[0.6187413705399317, 0.4684289083243369, 0.3663415530175207, 0.4705221785513756, 0.14285714285714285, 0.14285714285714285, 0.14285714285714285, 0.14285714285714285, 0.14285714285714285, 0.14285714285714285] => 2 (expected 2)\n",
            "[0.6726618705035972, 0.9518442569167966, 0.44717339139624523, 0.1291409320606401, 0.14285714285714285, 0.14285714285714285, 0.14285714285714285, 0.14285714285714285, 0.14285714285714285, 0.14285714285714285] => 1 (expected 1)\n",
            "[0.855461085676913, 0.17188417669860212, 0.48943486201816766, 0.017125210555867493, 0.14285714285714285, 0.14285714285714285, 0.14285714285714285, 0.14285714285714285, 0.14285714285714285, 0.14285714285714285] => 1 (expected 1)\n",
            "[0.20183852917665868, 0.07657524586291564, 0.7732589310850617, 0.0030881527231892197, 0.42857142857142855, 0.2857142857142857, 0.14285714285714285, 0.42857142857142855, 0.14285714285714285, 0.14285714285714285] => 1 (expected 1)\n",
            "[0.548361310951239, 0.6570978946811341, 0.47020670787329943, 0.13896687254351486, 0.14285714285714285, 0.14285714285714285, 0.14285714285714285, 0.14285714285714285, 0.14285714285714285, 0.14285714285714285] => 1 (expected 1)\n",
            "[0.21942446043165467, 0.305848131863498, 0.7107909142447539, 0.046322290847838295, 0.2857142857142857, 0.2857142857142857, 0.14285714285714285, 0.14285714285714285, 0.14285714285714285, 0.14285714285714285] => 1 (expected 1)\n",
            "[0.34732214228617103, 0.5009482131401393, 0.4213860052037339, 0.21532846715328469, 0.14285714285714285, 0.14285714285714285, 0.14285714285714285, 0.14285714285714285, 0.14285714285714285, 0.14285714285714285] => 1 (expected 1)\n",
            "[0.3835840418574231, 0.23705414556048376, 0.5482113343132629, 0.027231892195395846, 0.42857142857142855, 0.2857142857142857, 0.14285714285714285, 0.14285714285714285, 0.14285714285714285, 0.14285714285714285] => 0 (expected 0)\n",
            "[0.9115979943318072, 0.5515061133888743, 0.8259835380882741, 0.01740595171252106, 0.42857142857142855, 0.2857142857142857, 0.14285714285714285, 0.14285714285714285, 0.14285714285714285, 0.14285714285714285] => 1 (expected 1)\n",
            "[0.2920572632802848, 0.5242774919637665, 0.6153521498592995, 0.04660303200449186, 0.14285714285714285, 0.14285714285714285, 0.5714285714285714, 0.14285714285714285, 0.14285714285714285, 0.14285714285714285] => 1 (expected 1)\n",
            "[0.7470387326502435, 0.6798555263598347, 0.7854306804030591, 0.1226838854576081, 0.2857142857142857, 0.2857142857142857, 0.14285714285714285, 0.14285714285714285, 0.14285714285714285, 0.14285714285714285] => 2 (expected 2)\n",
            "[0.4916793837657147, 0.2565954337930978, 0.6074829299919564, 0.03930376193149916, 0.42857142857142855, 0.2857142857142857, 0.14285714285714285, 0.14285714285714285, 0.14285714285714285, 0.14285714285714285] => 1 (expected 1)\n",
            "[0.27312695298306805, 0.9066294030404949, 0.15119428618605069, 0.35766423357664234, 0.14285714285714285, 0.14285714285714285, 0.14285714285714285, 0.14285714285714285, 0.14285714285714285, 0.14285714285714285] => 1 (expected 1)\n",
            "[0.29143957561223743, 0.6992207080318444, 0.6382342527399141, 0.06400898371701291, 0.14285714285714285, 0.14285714285714285, 0.14285714285714285, 0.2857142857142857, 0.14285714285714285, 0.14285714285714285] => 1 (expected 1)\n",
            "[0.34779449167938375, 0.5413493299302414, 0.4413135509413415, 0.17658618753509264, 0.14285714285714285, 0.14285714285714285, 0.14285714285714285, 0.14285714285714285, 0.14285714285714285, 0.14285714285714285] => 1 (expected 1)\n",
            "[0.5280866216118014, 0.9268236580856488, 0.2824072830008484, 0.2577203818079731, 0.14285714285714285, 0.14285714285714285, 0.14285714285714285, 0.14285714285714285, 0.14285714285714285, 0.14285714285714285] => 2 (expected 2)\n",
            "[0.5278686141995494, 0.8484027139255841, 0.21720199795579886, 0.5828186412128018, 0.14285714285714285, 0.14285714285714285, 0.14285714285714285, 0.14285714285714285, 0.14285714285714285, 0.14285714285714285] => 1 (expected 1)\n",
            "[0.22174987282900951, 0.3190997525558683, 0.7117845884494687, 0.04688377316114543, 0.42857142857142855, 0.2857142857142857, 0.14285714285714285, 0.14285714285714285, 0.14285714285714285, 0.14285714285714285] => 1 (expected 1)\n",
            "[0.29100356078773343, 0.6255206502475514, 0.6362703133753824, 0.05895564289724874, 0.14285714285714285, 0.14285714285714285, 0.14285714285714285, 0.2857142857142857, 0.14285714285714285, 0.14285714285714285] => 2 (expected 2)\n",
            "[0.5998110602427149, 0.6510022756599048, 0.8857060361397142, 0.0019651880965749578, 0.0, 0.0, 0.0, 0.0, 0.0, 0.0] => 1 (expected 1)\n",
            "[0.746639052394448, 0.6366485368268373, 0.8293882732486755, 0.06513194834362718, 0.2857142857142857, 0.14285714285714285, 0.14285714285714285, 0.14285714285714285, 0.14285714285714285, 0.14285714285714285] => 2 (expected 1)\n",
            "[0.548252307245113, 0.7146537180513741, 0.47851910954537313, 0.13419427288040425, 0.14285714285714285, 0.14285714285714285, 0.14285714285714285, 0.14285714285714285, 0.14285714285714285, 0.14285714285714285] => 1 (expected 1)\n",
            "[0.8555337548143304, 0.27324277448937484, 0.4533720711508471, 0.11398090960134756, 0.14285714285714285, 0.14285714285714285, 0.14285714285714285, 0.14285714285714285, 0.14285714285714285, 0.14285714285714285] => 1 (expected 1)\n",
            "[0.20202020202020202, 0.19741321707059, 0.7282183386528402, 0.007860752386299833, 0.2857142857142857, 0.2857142857142857, 0.14285714285714285, 0.14285714285714285, 0.14285714285714285, 0.14285714285714285] => 1 (expected 1)\n",
            "[0.5461085676913016, 0.6274160869234102, 0.44608500331251255, 0.16928691746209995, 0.14285714285714285, 0.14285714285714285, 0.14285714285714285, 0.14285714285714285, 0.14285714285714285, 0.14285714285714285] => 1 (expected 1)\n",
            "[0.0005450185306300412, 0.2496014690892756, 0.6752794991376023, 0.03396967995508142, 0.42857142857142855, 0.2857142857142857, 0.14285714285714285, 0.14285714285714285, 0.14285714285714285, 0.14285714285714285] => 1 (expected 1)\n",
            "[0.8007775597703655, 0.36265732021146535, 0.7652521190353292, 0.023862998315553063, 0.2857142857142857, 0.2857142857142857, 0.14285714285714285, 0.14285714285714285, 0.14285714285714285, 0.14285714285714285] => 1 (expected 1)\n",
            "[0.5110457088874355, 0.5428056404009876, 0.5614908703046517, 0.06878158338012354, 0.42857142857142855, 0.2857142857142857, 0.14285714285714285, 0.14285714285714285, 0.14285714285714285, 0.14285714285714285] => 7 (expected 7)\n",
            "[0.9206998037933289, 0.5076228798263112, 0.7953059405813427, 0.06428972487366648, 0.42857142857142855, 0.2857142857142857, 0.14285714285714285, 0.14285714285714285, 0.14285714285714285, 0.14285714285714285] => 3 (expected 4)\n",
            "[0.38372938013225777, 0.3094207759273129, 0.578767151785113, 0.00926445816956766, 0.14285714285714285, 0.14285714285714285, 0.14285714285714285, 0.42857142857142855, 0.14285714285714285, 0.14285714285714285] => 2 (expected 2)\n",
            "[0.12935106460286316, 0.6180453935850396, 0.37104311393086764, 0.40286355979786637, 0.14285714285714285, 0.14285714285714285, 0.14285714285714285, 0.14285714285714285, 0.14285714285714285, 0.14285714285714285] => 1 (expected 1)\n",
            "[0.32969987646246635, 0.7373216399380245, 0.4946029607795326, 0.10696238068500843, 0.14285714285714285, 0.14285714285714285, 0.14285714285714285, 0.14285714285714285, 0.14285714285714285, 0.14285714285714285] => 1 (expected 1)\n",
            "[0.5271055882566674, 0.9588747939579054, 0.24336958237186246, 0.2523862998315553, 0.14285714285714285, 0.14285714285714285, 0.14285714285714285, 0.14285714285714285, 0.14285714285714285, 0.14285714285714285] => 1 (expected 1)\n",
            "[0.0008356950802993965, 0.2896742953693825, 0.6554011565622897, 0.01768669286917462, 0.14285714285714285, 0.14285714285714285, 0.14285714285714285, 0.14285714285714285, 0.14285714285714285, 0.14285714285714285] => 1 (expected 1)\n",
            "[0.5127170990480343, 0.4953521722462426, 0.5962776473849811, 0.04660303200449186, 0.42857142857142855, 0.2857142857142857, 0.14285714285714285, 0.14285714285714285, 0.14285714285714285, 0.14285714285714285] => 7 (expected 7)\n",
            "[0.2920935978489935, 0.5767169744264702, 0.637090742980648, 0.04435710275126334, 0.14285714285714285, 0.14285714285714285, 0.14285714285714285, 0.2857142857142857, 0.14285714285714285, 0.14285714285714285] => 1 (expected 1)\n",
            "[0.38260300850228907, 0.3011884718829716, 0.5573883512670472, 0.025547445255474456, 0.42857142857142855, 0.2857142857142857, 0.14285714285714285, 0.14285714285714285, 0.14285714285714285, 0.14285714285714285] => 1 (expected 1)\n",
            "[0.617724002616089, 0.3571512902935725, 0.27948297211057027, 0.6316676024705222, 0.14285714285714285, 0.14285714285714285, 0.2857142857142857, 0.14285714285714285, 0.14285714285714285, 0.14285714285714285] => 1 (expected 1)\n",
            "[0.4734757648426713, 0.7775701425159443, 0.5134390266727606, 0.12717574396406514, 0.14285714285714285, 0.14285714285714285, 0.14285714285714285, 0.14285714285714285, 0.14285714285714285, 0.14285714285714285] => 1 (expected 1)\n",
            "[0.836785117360657, 0.4210650639090836, 0.6799968721982579, 0.16086468276249297, 0.2857142857142857, 0.2857142857142857, 0.2857142857142857, 0.14285714285714285, 0.14285714285714285, 0.14285714285714285] => 1 (expected 1)\n",
            "[0.12833369667902042, 0.5852982215948033, 0.31556648660782716, 0.8166760247052218, 0.14285714285714285, 0.14285714285714285, 0.14285714285714285, 0.14285714285714285, 0.14285714285714285, 0.14285714285714285] => 1 (expected 1)\n",
            "[0.8374028050287043, 0.4617951166033678, 0.6135090188336458, 0.024424480628860195, 0.14285714285714285, 0.14285714285714285, 0.14285714285714285, 0.2857142857142857, 0.14285714285714285, 0.14285714285714285] => 4 (expected 4)\n",
            "[0.5482886418138216, 0.6273060687275966, 0.45427357555387626, 0.1541268950028074, 0.14285714285714285, 0.14285714285714285, 0.14285714285714285, 0.14285714285714285, 0.14285714285714285, 0.14285714285714285] => 1 (expected 1)\n",
            "[0.30938885255432014, 0.5896724452393787, 0.6839252986106354, 0.08085345311622684, 0.14285714285714285, 0.14285714285714285, 0.14285714285714285, 0.14285714285714285, 0.14285714285714285, 0.14285714285714285] => 1 (expected 1)\n",
            "[0.22269457161543493, 0.27847390950971107, 0.6956725580254133, 0.04435710275126334, 0.42857142857142855, 0.2857142857142857, 0.14285714285714285, 0.14285714285714285, 0.14285714285714285, 0.14285714285714285] => 1 (expected 1)\n",
            "[0.31055155875299756, 0.6266846401776813, 0.6799921727220746, 0.07523862998315553, 0.14285714285714285, 0.14285714285714285, 0.14285714285714285, 0.14285714285714285, 0.14285714285714285, 0.14285714285714285] => 1 (expected 1)\n",
            "[0.8904512753433617, 0.8176051917229483, 0.9111515972751028, 0.06962380685008422, 0.2857142857142857, 0.2857142857142857, 0.42857142857142855, 0.14285714285714285, 0.14285714285714285, 0.14285714285714285] => 1 (expected 1)\n",
            "[0.7995058498655621, 0.3270848276001532, 0.7624855232724512, 0.013475575519371142, 0.42857142857142855, 0.2857142857142857, 0.14285714285714285, 0.2857142857142857, 0.14285714285714285, 0.14285714285714285] => 7 (expected 7)\n",
            "[0.8193445243804955, 0.7921734337681423, 0.48647269031036755, 0.13615946097697923, 0.14285714285714285, 0.14285714285714285, 0.14285714285714285, 0.14285714285714285, 0.14285714285714285, 0.14285714285714285] => 2 (expected 2)\n",
            "[0.8363854371048616, 0.4303651511233513, 0.6378571286098054, 0.04267265581134195, 1.0, 1.0, 1.0, 1.0, 1.0, 1.0] => 1 (expected 1)\n",
            "[0.474384129060388, 0.9667232175395761, 0.4977501787788514, 0.09769792251544077, 0.14285714285714285, 0.14285714285714285, 0.14285714285714285, 0.2857142857142857, 0.14285714285714285, 0.14285714285714285] => 2 (expected 2)\n",
            "[0.3649444081098757, 0.5577304240110732, 0.7292593079618512, 0.06457046603032005, 0.2857142857142857, 0.2857142857142857, 0.2857142857142857, 0.14285714285714285, 0.14285714285714285, 0.14285714285714285] => 1 (expected 1)\n",
            "[0.5637671680837149, 0.5944838158802248, 0.1644898286639891, 0.549129702414374, 0.14285714285714285, 0.14285714285714285, 0.14285714285714285, 0.14285714285714285, 0.2857142857142857, 0.14285714285714285] => 2 (expected 2)\n",
            "[0.7999781992587748, 0.3218857471577914, 0.7739420688504006, 0.006176305446378439, 0.42857142857142855, 0.2857142857142857, 0.14285714285714285, 0.2857142857142857, 0.14285714285714285, 0.14285714285714285] => 4 (expected 4)\n",
            "[0.329409199912797, 0.7077129768548736, 0.4991840313636682, 0.10864682762492982, 0.14285714285714285, 0.14285714285714285, 0.14285714285714285, 0.14285714285714285, 0.14285714285714285, 0.14285714285714285] => 1 (expected 1)\n",
            "[0.2003851464283119, 0.20369509685430565, 0.7519743850987175, 0.002807411566535654, 0.5714285714285714, 0.42857142857142855, 0.2857142857142857, 0.42857142857142855, 0.2857142857142857, 0.2857142857142857] => 1 (expected 1)\n",
            "[0.29082188794419006, 0.617901513707527, 0.5911640166126133, 0.05670971364402022, 0.14285714285714285, 0.14285714285714285, 0.14285714285714285, 0.14285714285714285, 0.14285714285714285, 0.14285714285714285] => 7 (expected 7)\n"
          ]
        }
      ]
    },
    {
      "cell_type": "markdown",
      "metadata": {
        "id": "F4liHiWJVrjn"
      },
      "source": [
        "**Visualizing Loss and Accuracy**"
      ]
    },
    {
      "cell_type": "code",
      "metadata": {
        "colab": {
          "base_uri": "https://localhost:8080/",
          "height": 295
        },
        "id": "IHfBeYIGVtDb",
        "outputId": "13561733-0e83-411b-8e9d-93b38f79bdc5"
      },
      "source": [
        "import matplotlib.pyplot as plt\n",
        "\n",
        "plt.plot(hist.history['loss'])\n",
        "plt.plot(hist.history['val_loss'])\n",
        "plt.title('Model loss')\n",
        "plt.ylabel('Loss')\n",
        "plt.xlabel('Epoch')\n",
        "plt.legend(['Train', 'Val'], loc='upper right')\n",
        "plt.show()"
      ],
      "execution_count": null,
      "outputs": [
        {
          "output_type": "display_data",
          "data": {
            "image/png": "[encoded data removed]",
            "text/plain": [
              "<Figure size 432x288 with 1 Axes>"
            ]
          },
          "metadata": {
            "needs_background": "light"
          }
        }
      ]
    },
    {
      "cell_type": "code",
      "metadata": {
        "colab": {
          "base_uri": "https://localhost:8080/",
          "height": 295
        },
        "id": "ACcYMy5lV051",
        "outputId": "b86cb02a-371c-47c8-c0e7-f6e4e7fa4211"
      },
      "source": [
        "plt.plot(hist.history['accuracy'])\n",
        "plt.plot(hist.history['val_accuracy'])\n",
        "plt.title('Model accuracy')\n",
        "plt.ylabel('Accuracy')\n",
        "plt.xlabel('Epoch')\n",
        "plt.legend(['Train', 'Val'], loc='lower right')\n",
        "plt.show()"
      ],
      "execution_count": null,
      "outputs": [
        {
          "output_type": "display_data",
          "data": {
            "image/png": "[encoded data removed]",
            "text/plain": [
              "<Figure size 432x288 with 1 Axes>"
            ]
          },
          "metadata": {
            "needs_background": "light"
          }
        }
      ]
    }
  ]
}
